{
 "cells": [
  {
   "cell_type": "markdown",
   "metadata": {},
   "source": [
    "## check_for_duplicate_ids\n",
    "\n",
    "Here we'll check any id columuns in each table and confirm which columns have duplicates. \n"
   ]
  },
  {
   "cell_type": "code",
   "execution_count": 12,
   "metadata": {},
   "outputs": [],
   "source": [
    "import os\n",
    "\n",
    "import pandas\n"
   ]
  },
  {
   "cell_type": "code",
   "execution_count": 11,
   "metadata": {},
   "outputs": [
    {
     "name": "stdout",
     "output_type": "stream",
     "text": [
      "../data/ST-GTFS/fare_attributes.txt\n",
      "../data/ST-GTFS/timepoints.txt\n",
      "../data/ST-GTFS/stop_attributes.txt\n",
      "../data/ST-GTFS/agency.txt\n",
      "../data/ST-GTFS/fare_rules.txt\n",
      "../data/ST-GTFS/calendar_dates.txt\n",
      "../data/ST-GTFS/stop_times.txt\n",
      "../data/ST-GTFS/shapes.txt\n",
      "../data/ST-GTFS/trips.txt\n",
      "../data/ST-GTFS/stops.txt\n",
      "../data/ST-GTFS/realtime_trips.txt\n",
      "../data/ST-GTFS/calendar_attributes.txt\n",
      "../data/ST-GTFS/realtime_routes.txt\n",
      "../data/ST-GTFS/calendar.txt\n",
      "../data/ST-GTFS/realtime_directions.txt\n",
      "../data/ST-GTFS/routes.txt\n"
     ]
    }
   ],
   "source": [
    "data_directory = '../data/ST-GTFS'\n",
    "\n",
    "files = []\n",
    "for filename in os.listdir(data_directory):\n",
    "    if filename.endswith(\".txt\") or filename.endswith(\".csv\"):\n",
    "        filepath = os.path.join(data_directory, filename)\n",
    "        print(filepath)\n",
    "        files.append(filepath)\n",
    "        continue\n"
   ]
  },
  {
   "cell_type": "code",
   "execution_count": 51,
   "metadata": {},
   "outputs": [
    {
     "name": "stdout",
     "output_type": "stream",
     "text": [
      "../data/ST-GTFS/fare_attributes.txt\n",
      "column fare_id has_duplicates False\n",
      "\n",
      "\n",
      "../data/ST-GTFS/timepoints.txt\n",
      "column trip_id has_duplicates True\n",
      "column stop_id has_duplicates True\n",
      "\n",
      "\n",
      "../data/ST-GTFS/stop_attributes.txt\n",
      "column stop_id has_duplicates False\n",
      "column accessibility_id has_duplicates True\n",
      "\n",
      "\n",
      "../data/ST-GTFS/agency.txt\n",
      "column agency_id has_duplicates False\n",
      "\n",
      "\n",
      "../data/ST-GTFS/fare_rules.txt\n",
      "column fare_id has_duplicates True\n",
      "column route_id has_duplicates True\n",
      "column origin_id has_duplicates True\n",
      "column destination_id has_duplicates True\n",
      "column contains_id has_duplicates True\n",
      "\n",
      "\n",
      "../data/ST-GTFS/calendar_dates.txt\n",
      "column service_id has_duplicates True\n",
      "\n",
      "\n",
      "../data/ST-GTFS/stop_times.txt\n",
      "column trip_id has_duplicates True\n",
      "column stop_id has_duplicates True\n",
      "\n",
      "\n",
      "../data/ST-GTFS/shapes.txt\n",
      "column shape_id has_duplicates True\n",
      "\n",
      "\n",
      "../data/ST-GTFS/trips.txt\n",
      "column route_id has_duplicates True\n",
      "column service_id has_duplicates True\n",
      "column trip_id has_duplicates False\n",
      "column direction_id has_duplicates True\n",
      "column block_id has_duplicates True\n",
      "column shape_id has_duplicates True\n",
      "\n",
      "\n",
      "../data/ST-GTFS/stops.txt\n",
      "column stop_id has_duplicates False\n",
      "column zone_id has_duplicates True\n",
      "\n",
      "\n",
      "../data/ST-GTFS/realtime_trips.txt\n",
      "column trip_id has_duplicates False\n",
      "column realtime_trip_id has_duplicates False\n",
      "\n",
      "\n",
      "../data/ST-GTFS/calendar_attributes.txt\n",
      "column service_id has_duplicates False\n",
      "\n",
      "\n",
      "../data/ST-GTFS/realtime_routes.txt\n",
      "column route_id has_duplicates False\n",
      "\n",
      "\n",
      "../data/ST-GTFS/calendar.txt\n",
      "column service_id has_duplicates False\n",
      "column friday has_duplicates True\n",
      "\n",
      "\n",
      "../data/ST-GTFS/realtime_directions.txt\n",
      "column trip_id has_duplicates False\n",
      "column direction_id has_duplicates True\n",
      "\n",
      "\n",
      "../data/ST-GTFS/routes.txt\n",
      "column route_id has_duplicates False\n",
      "\n",
      "\n"
     ]
    }
   ],
   "source": [
    "for filepath in files:\n",
    "    print(filepath)\n",
    "    dataframe = pandas.read_csv(filepath)\n",
    "    columns = [x for x in dataframe.columns if 'id' in x]\n",
    "    for column in columns:\n",
    "        has_duplicates = any(dataframe.duplicated(column))\n",
    "        print(\"column %s has_duplicates %s\" % (column, has_duplicates))\n",
    "    print('\\n')\n",
    "    continue\n"
   ]
  }
 ],
 "metadata": {
  "kernelspec": {
   "display_name": "Python 2",
   "language": "python",
   "name": "python2"
  },
  "language_info": {
   "codemirror_mode": {
    "name": "ipython",
    "version": 2
   },
   "file_extension": ".py",
   "mimetype": "text/x-python",
   "name": "python",
   "nbconvert_exporter": "python",
   "pygments_lexer": "ipython2",
   "version": "2.7.14"
  }
 },
 "nbformat": 4,
 "nbformat_minor": 2
}
